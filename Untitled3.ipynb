{
  "nbformat": 4,
  "nbformat_minor": 0,
  "metadata": {
    "colab": {
      "name": "Untitled3.ipynb",
      "provenance": [],
      "authorship_tag": "ABX9TyMR2TEkJlE0OHATObavlkKY",
      "include_colab_link": true
    },
    "kernelspec": {
      "name": "python3",
      "display_name": "Python 3"
    },
    "language_info": {
      "name": "python"
    }
  },
  "cells": [
    {
      "cell_type": "markdown",
      "metadata": {
        "id": "view-in-github",
        "colab_type": "text"
      },
      "source": [
        "<a href=\"https://colab.research.google.com/github/Pratik-Priyansh/ROBOISM/blob/main/Untitled3.ipynb\" target=\"_parent\"><img src=\"https://colab.research.google.com/assets/colab-badge.svg\" alt=\"Open In Colab\"/></a>"
      ]
    },
    {
      "cell_type": "code",
      "execution_count": 3,
      "metadata": {
        "colab": {
          "base_uri": "https://localhost:8080/"
        },
        "id": "0vtnRZbBiVVA",
        "outputId": "a57a2111-a62e-4b4c-bdd3-7f1ecf3a1df5"
      },
      "outputs": [
        {
          "output_type": "stream",
          "name": "stdout",
          "text": [
            "Enter the number of elements you want to enter in the list\n",
            "8\n",
            "Enter the element in string4\n",
            "Enter the element in string5\n",
            "Enter the element in string2\n",
            "Enter the element in string7\n",
            "Enter the element in string9\n",
            "Enter the element in string10\n",
            "Enter the element in string2\n",
            "Enter the element in string8\n",
            "[4, 5, 2, 7, 9, 10, 2, 8]\n",
            "Enter the command asc,none or desc which you want to perform on string\n",
            "asc\n",
            "[2, 2, 4, 5, 7, 8, 9, 10]\n"
          ]
        }
      ],
      "source": [
        "def my_function(list,choice):\n",
        "    list2=[]\n",
        "    if (choice==\"none\"):\n",
        "        print(list)\n",
        "    elif(choice==\"asc\"):\n",
        "        list.sort()\n",
        "        print(list)\n",
        "    elif(choice==\"desc\"):\n",
        "        for i in range(0,len(list),1):\n",
        "             list.sort()\n",
        "             list2.append(list[len(list)-1-i])\n",
        "        print(list2)\n",
        "list1=[]\n",
        "x=int(input(\"Enter the number of elements you want to enter in the list\\n\"))\n",
        "for i in range(0,x,1):\n",
        "    list1.append(int(input(\"Enter the element in string\")))\n",
        "\n",
        "print(list1)\n",
        "choice=str(input(\"Enter the command asc,none or desc which you want to perform on string\\n\"))\n",
        "my_function(list1,choice)"
      ]
    },
    {
      "cell_type": "code",
      "source": [
        "def card(x):\n",
        "    s = ''\n",
        "    for chr in (x[:-4]):\n",
        "        s = s + '*'\n",
        "    s = s + x[-4:]\n",
        "    return s\n",
        "a = input(\"Enter any card number : \")\n",
        "print(card(a))"
      ],
      "metadata": {
        "colab": {
          "base_uri": "https://localhost:8080/"
        },
        "id": "q-XqbXzOi3O-",
        "outputId": "89ae49b8-a1e4-49bf-c21e-be8cad3b1f69"
      },
      "execution_count": 4,
      "outputs": [
        {
          "output_type": "stream",
          "name": "stdout",
          "text": [
            "Enter any card number : 826465482901037\n",
            "***********1037\n"
          ]
        }
      ]
    },
    {
      "cell_type": "code",
      "source": [
        "def cal(x,y,z):\n",
        "    if y == '+':\n",
        "        return (x+z)\n",
        "    elif y == '-':\n",
        "        return(x-z)\n",
        "    elif y == '*':\n",
        "        return(x*z)\n",
        "    elif y == '/':\n",
        "        return(x/z)\n",
        "print(cal(4,'+',3))\n",
        "print(cal(4,'-',1))\n",
        "print(cal(4,'*',6))\n",
        "print(cal(4,'/',2))"
      ],
      "metadata": {
        "colab": {
          "base_uri": "https://localhost:8080/"
        },
        "id": "4H-2Q3i5i9CG",
        "outputId": "84855eda-f0c4-40c1-f42a-29900adcd4e5"
      },
      "execution_count": 5,
      "outputs": [
        {
          "output_type": "stream",
          "name": "stdout",
          "text": [
            "7\n",
            "3\n",
            "24\n",
            "2.0\n"
          ]
        }
      ]
    },
    {
      "cell_type": "code",
      "source": [
        "def double(str):\n",
        "    rep = ''\n",
        "    for i in str:\n",
        "        rep = rep +i +i\n",
        "    return rep\n",
        "str = input(\"Enter any string :\")\n",
        "print(double(str))"
      ],
      "metadata": {
        "colab": {
          "base_uri": "https://localhost:8080/"
        },
        "id": "7kRvtep5jDJ5",
        "outputId": "cf49a653-1280-4f91-aeee-91fc64580e02"
      },
      "execution_count": 6,
      "outputs": [
        {
          "output_type": "stream",
          "name": "stdout",
          "text": [
            "Enter any string :hello\n",
            "hheelllloo\n"
          ]
        }
      ]
    },
    {
      "cell_type": "code",
      "source": [
        "mylist = list(range(1,100))\n",
        "print(mylist)\n",
        "mylist.append(74)\n",
        "print(mylist)\n",
        "for i in range (0 , len(mylist)):\n",
        "    for j in range(i+1 , len(mylist)):\n",
        "        if (mylist[i]== mylist[j]):\n",
        "            print(\"Duplicate element is : \", mylist[i])\n",
        "    "
      ],
      "metadata": {
        "colab": {
          "base_uri": "https://localhost:8080/"
        },
        "id": "bHCf5RuWjJX-",
        "outputId": "53eedc6b-2203-4dc7-aa7d-ef0bf03560de"
      },
      "execution_count": 7,
      "outputs": [
        {
          "output_type": "stream",
          "name": "stdout",
          "text": [
            "[1, 2, 3, 4, 5, 6, 7, 8, 9, 10, 11, 12, 13, 14, 15, 16, 17, 18, 19, 20, 21, 22, 23, 24, 25, 26, 27, 28, 29, 30, 31, 32, 33, 34, 35, 36, 37, 38, 39, 40, 41, 42, 43, 44, 45, 46, 47, 48, 49, 50, 51, 52, 53, 54, 55, 56, 57, 58, 59, 60, 61, 62, 63, 64, 65, 66, 67, 68, 69, 70, 71, 72, 73, 74, 75, 76, 77, 78, 79, 80, 81, 82, 83, 84, 85, 86, 87, 88, 89, 90, 91, 92, 93, 94, 95, 96, 97, 98, 99]\n",
            "[1, 2, 3, 4, 5, 6, 7, 8, 9, 10, 11, 12, 13, 14, 15, 16, 17, 18, 19, 20, 21, 22, 23, 24, 25, 26, 27, 28, 29, 30, 31, 32, 33, 34, 35, 36, 37, 38, 39, 40, 41, 42, 43, 44, 45, 46, 47, 48, 49, 50, 51, 52, 53, 54, 55, 56, 57, 58, 59, 60, 61, 62, 63, 64, 65, 66, 67, 68, 69, 70, 71, 72, 73, 74, 75, 76, 77, 78, 79, 80, 81, 82, 83, 84, 85, 86, 87, 88, 89, 90, 91, 92, 93, 94, 95, 96, 97, 98, 99, 74]\n",
            "Duplicate element is :  74\n"
          ]
        }
      ]
    },
    {
      "cell_type": "code",
      "source": [
        "r1 = int(input(\"Enter any number :\"))\n",
        "r2 = int(input(\"Enter any number :\"))\n",
        "for i in range(r1,r2+1):\n",
        "     for j in range(2,i):\n",
        "        if i%j ==0:\n",
        "            break\n",
        "     else:\n",
        "        print(i)\n",
        "           "
      ],
      "metadata": {
        "colab": {
          "base_uri": "https://localhost:8080/"
        },
        "id": "rJJVC12rjQwO",
        "outputId": "9a48197f-9b58-4116-df22-275a2c446e31"
      },
      "execution_count": 8,
      "outputs": [
        {
          "output_type": "stream",
          "name": "stdout",
          "text": [
            "Enter any number :19\n",
            "Enter any number :29\n",
            "19\n",
            "23\n",
            "29\n"
          ]
        }
      ]
    },
    {
      "cell_type": "code",
      "source": [
        "def most_frequent(List):\n",
        "    counter = 0\n",
        "    num = List[0]\n",
        "     \n",
        "    for i in List:\n",
        "        curr_frequency = List.count(i)\n",
        "        if(curr_frequency> counter):\n",
        "            counter = curr_frequency\n",
        "            num = i\n",
        " \n",
        "    return num\n",
        " \n",
        "List = []\n",
        "  \n",
        "# number of elements as input\n",
        "n = int(input(\"Enter number of elements : \"))\n",
        "  \n",
        "# iterating till the range\n",
        "for i in range(0, n):\n",
        "    elements = int(input())\n",
        "  \n",
        "    List.append(elements) # adding the element\n",
        "print(\"The most frequent element in the given list is:\")      \n",
        "print(most_frequent(List))"
      ],
      "metadata": {
        "colab": {
          "base_uri": "https://localhost:8080/"
        },
        "id": "q6SGZYHVjeOQ",
        "outputId": "1e30595e-0fc8-4f1c-efe3-4fb40ad5e46b"
      },
      "execution_count": 17,
      "outputs": [
        {
          "output_type": "stream",
          "name": "stdout",
          "text": [
            "Enter number of elements : 10\n",
            "1\n",
            "3\n",
            "1\n",
            "6\n",
            "3\n",
            "1\n",
            "7\n",
            "9\n",
            "1\n",
            "3\n",
            "The most frequent element in the given list is:\n",
            "1\n"
          ]
        }
      ]
    },
    {
      "cell_type": "code",
      "source": [
        "a = input(\"Enter any string :\")\n",
        "sum = 0\n",
        "for i in a:\n",
        "    if i.isdigit() == True:\n",
        "        b = int(i)\n",
        "        sum = sum + b\n",
        "print(sum)"
      ],
      "metadata": {
        "colab": {
          "base_uri": "https://localhost:8080/"
        },
        "id": "X0PFYIfDjwq_",
        "outputId": "a5fd8c33-0ac7-47c8-aed0-09872db81315"
      },
      "execution_count": 13,
      "outputs": [
        {
          "output_type": "stream",
          "name": "stdout",
          "text": [
            "Enter any string :kdjy3778jfh763\n",
            "41\n"
          ]
        }
      ]
    },
    {
      "cell_type": "code",
      "source": [
        "def sort(string):\n",
        "    return ''.join(sorted(string))\n",
        "string = 'PYTHON'\n",
        "print(string)\n",
        "print(sort(string))\n",
        "a = \"PROGRAM\"\n",
        "print(sort(a))"
      ],
      "metadata": {
        "colab": {
          "base_uri": "https://localhost:8080/"
        },
        "id": "D9zzJ8rkkl4U",
        "outputId": "01820b07-411b-48ae-ac15-f5688787416f"
      },
      "execution_count": 14,
      "outputs": [
        {
          "output_type": "stream",
          "name": "stdout",
          "text": [
            "PYTHON\n",
            "HNOPTY\n",
            "AGMOPRR\n"
          ]
        }
      ]
    },
    {
      "cell_type": "code",
      "source": [
        "num1 = 3\n",
        "num2 = 4\n",
        "print(\"num1 = \", num1)\n",
        "print(\"num2 = \", num2)\n",
        "num1^=num2\n",
        "num2^=num1\n",
        "num1^=num2\n",
        "print(\"num1 = \", num1)\n",
        "print(\"num2 = \", num2)"
      ],
      "metadata": {
        "colab": {
          "base_uri": "https://localhost:8080/"
        },
        "id": "O-iNvrJFksfa",
        "outputId": "a72a5069-785f-4856-b981-46c822744618"
      },
      "execution_count": 15,
      "outputs": [
        {
          "output_type": "stream",
          "name": "stdout",
          "text": [
            "num1 =  3\n",
            "num2 =  4\n",
            "num1 =  4\n",
            "num2 =  3\n"
          ]
        }
      ]
    }
  ]
}